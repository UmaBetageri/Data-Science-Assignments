{
 "cells": [
  {
   "cell_type": "markdown",
   "id": "16a8c1d9-0504-4bdf-b0fc-35be6b9dc14b",
   "metadata": {},
   "source": [
    "## PYTHON PROGRAMMING ASSIGNMENT"
   ]
  },
  {
   "cell_type": "code",
   "execution_count": 1,
   "id": "2eeb471b-3b6a-47d0-9673-d6d9c70ee4af",
   "metadata": {},
   "outputs": [],
   "source": [
    "# Import Libraries\n",
    "import pandas as pd\n",
    "import numpy as np"
   ]
  },
  {
   "cell_type": "markdown",
   "id": "8e1d3751-ca1e-4bd8-9548-a03dc2cf4fb1",
   "metadata": {},
   "source": [
    "### Exercise 1: Prime Numbers\n",
    "Write a Python program that checks whether a given number is prime or not. A prime number is a natural number greater than 1 that has no positive divisors other than 1 and itself."
   ]
  },
  {
   "cell_type": "code",
   "execution_count": 127,
   "id": "b228a030-5806-4a2b-9819-ded4e10b8e46",
   "metadata": {},
   "outputs": [
    {
     "name": "stdout",
     "output_type": "stream",
     "text": [
      "121 is not a prime number\n"
     ]
    }
   ],
   "source": [
    "def prime_number(num):\n",
    "    if num > 1:\n",
    "        for i in range(2, (num//2)+1):\n",
    "        # If num is divisible by any number between 2 and n / 2, it is not prime\n",
    "            if (num % i) == 0:\n",
    "                print(f\"{num} is not a prime number\")\n",
    "                break\n",
    "        else:\n",
    "            print(f\"{num} is a prime number\")\n",
    "    else:\n",
    "        print(f\"{num} is not a prime number\") \n",
    "\n",
    "\n",
    "prime_number(121)"
   ]
  },
  {
   "cell_type": "markdown",
   "id": "3f4b1a29-e8a9-462f-a587-cdbc264e40f4",
   "metadata": {},
   "source": [
    "### Exercise 2: Product of Random Numbers\n",
    "Develop a Python program that generates two random numbers and asks the user to enter the product of these numbers. The program should then check if the user's answer is correct and display an appropriate message."
   ]
  },
  {
   "cell_type": "code",
   "execution_count": 151,
   "id": "8cbeabc3-2186-40fb-bb15-ad601ef9a70f",
   "metadata": {},
   "outputs": [
    {
     "name": "stdin",
     "output_type": "stream",
     "text": [
      "Enter the product of the two numbers:  hy\n"
     ]
    },
    {
     "name": "stdout",
     "output_type": "stream",
     "text": [
      "Please enter a valid integer.\n"
     ]
    },
    {
     "name": "stdin",
     "output_type": "stream",
     "text": [
      "Enter the product of the two numbers:  89\n"
     ]
    },
    {
     "name": "stdout",
     "output_type": "stream",
     "text": [
      "Number 1: 2\n",
      "Number 2: 3\n",
      "Sorry, the correct answer is 6.\n"
     ]
    }
   ],
   "source": [
    "import random\n",
    "\n",
    "def check_answer(user_ans):\n",
    "    # generating random numbers\n",
    "    num1 = random.randint(1, 10)\n",
    "    num2 = random.randint(1, 10)\n",
    "    \n",
    "    print(\"Number 1:\",num1)\n",
    "    print(\"Number 2:\", num2)\n",
    "    \n",
    "    # corect product\n",
    "    correct_answer = num1 * num2\n",
    "    \n",
    "    # checks if the user number matches the actual product.\n",
    "    if user_ans == correct_answer:\n",
    "        print(\"Your answer is correct.\")\n",
    "    else:\n",
    "        print(f\"Sorry, the correct answer is {correct_answer}.\")\n",
    "\n",
    "# User input\n",
    "while True:\n",
    "    # Check whether user entered a valid input\n",
    "    try:\n",
    "        user_answer = int(input(\"Enter the product of the two numbers: \"))\n",
    "        check_answer(user_answer)\n",
    "        break\n",
    "    except ValueError:\n",
    "        print(\"Please enter a valid integer.\")"
   ]
  },
  {
   "cell_type": "markdown",
   "id": "de3f8581-f8af-45b8-accd-c9d280a830d8",
   "metadata": {},
   "source": [
    "### Exercise 3: Squares of Even/Odd Numbers\n",
    "Create a Python script that prints the squares of all even or odd numbers within the range of 100 to 200. Choose either even or odd numbers and document your choice in the code.\n",
    "\n",
    "#### I am choosing odd numbers from 100 to 200"
   ]
  },
  {
   "cell_type": "code",
   "execution_count": 155,
   "id": "7708f3c1-2307-4ea0-9f54-40ef02de5d13",
   "metadata": {},
   "outputs": [
    {
     "name": "stdout",
     "output_type": "stream",
     "text": [
      "[10201, 10609, 11025, 11449, 11881, 12321, 12769, 13225, 13689, 14161, 14641, 15129, 15625, 16129, 16641, 17161, 17689, 18225, 18769, 19321, 19881, 20449, 21025, 21609, 22201, 22801, 23409, 24025, 24649, 25281, 25921, 26569, 27225, 27889, 28561, 29241, 29929, 30625, 31329, 32041, 32761, 33489, 34225, 34969, 35721, 36481, 37249, 38025, 38809, 39601]\n"
     ]
    }
   ],
   "source": [
    "# Creating list to save squares of odd numbers\n",
    "squares = []\n",
    "\n",
    "# Producing Squares\n",
    "for i in range(100, 201):\n",
    "    # Check if the number is odd\n",
    "    if i % 2 != 0:\n",
    "        squares.append(i ** 2)\n",
    "\n",
    "# Printing the list\n",
    "print(squares)"
   ]
  },
  {
   "cell_type": "markdown",
   "id": "4401ec53-b1c5-4ea3-adb7-f89d5e0a9833",
   "metadata": {},
   "source": [
    "### Exercise 4: Word counter\n",
    "Write a program to count the number of words in a given text.\n",
    "\n",
    "##### Example:\n",
    "##### Input_text = \"This is a sample text. This text will be used to demonstrate the word counter.\"\n",
    "\n",
    "##### Expected output:\n",
    "##### 'This': 2, \n",
    "##### 'is': 1,\n",
    "##### 'a': 1,\n",
    "##### 'sample': 1,\n",
    "##### 'text.': 1"
   ]
  },
  {
   "cell_type": "code",
   "execution_count": 165,
   "id": "dba9a34a-b1bb-4b03-9af2-7c7f816bb9f9",
   "metadata": {},
   "outputs": [
    {
     "name": "stdin",
     "output_type": "stream",
     "text": [
      "Enter a string:  Downpours in Dubai bring the equivalent of two years of rain in just a day\n"
     ]
    },
    {
     "name": "stdout",
     "output_type": "stream",
     "text": [
      "'Downpours': 1\n",
      "'in': 2\n",
      "'Dubai': 1\n",
      "'bring': 1\n",
      "'the': 1\n",
      "'equivalent': 1\n",
      "'of': 2\n",
      "'two': 1\n",
      "'years': 1\n",
      "'rain': 1\n",
      "'just': 1\n",
      "'a': 1\n",
      "'day': 1\n"
     ]
    }
   ],
   "source": [
    "def count_words(input_text):\n",
    "    # Split the text into words\n",
    "    words = input_text.split()\n",
    "    \n",
    "    # Create a dictionary to store word counts\n",
    "    word_counts = {}\n",
    "    \n",
    "    # Iterate through each word in the list of words\n",
    "    for word in words:\n",
    "        # Increment the count for each word in the dictionary\n",
    "        word_counts[word] = word_counts.get(word, 0) + 1\n",
    "        # Print the word counts\n",
    "\n",
    "    for word, count in word_counts.items():\n",
    "        print(f\"'{word}': {count}\")\n",
    "\n",
    "\n",
    "# User input\n",
    "input_text = str(input(\"Enter a string: \"))\n",
    "word_counts = count_words(input_text)\n"
   ]
  },
  {
   "cell_type": "markdown",
   "id": "07945e90-9984-449b-a0c4-0cdf210154c4",
   "metadata": {},
   "source": [
    "### Exercise 5: Check for Palindrome\n",
    "Write a Python function called is_palindrome that takes a string as input and returns True if the string is a palindrome, and False otherwise. A palindrome is a word, phrase, number, or other sequence of characters that reads the same forward and backward, ignoring spaces, punctuation, and capitalization.\n",
    "#### Example:\n",
    "##### Input: \"racecar\"\n",
    "##### Expected Output: True"
   ]
  },
  {
   "cell_type": "code",
   "execution_count": 171,
   "id": "04fa832a-abf7-49af-a212-d6f4c8f8af13",
   "metadata": {},
   "outputs": [
    {
     "name": "stdin",
     "output_type": "stream",
     "text": [
      "Enter a string:  racecar\n"
     ]
    },
    {
     "data": {
      "text/plain": [
       "True"
      ]
     },
     "execution_count": 171,
     "metadata": {},
     "output_type": "execute_result"
    }
   ],
   "source": [
    "# Creating function to check whether given number\n",
    "def isPalindrome(x):\n",
    "    # Converting the input to str\n",
    "    l_to_r = list(str(x))\n",
    "    # Backword reading\n",
    "    r_to_l = l_to_r[::-1]\n",
    "    \n",
    "    # Checking if sequence of characters that reads the same forward and backward\n",
    "    if l_to_r == r_to_l:\n",
    "        return True\n",
    "    else:\n",
    "        return False\n",
    "\n",
    "# Input text\n",
    "input_text = str(input(\"Enter a string: \"))\n",
    "isPalindrome(input_text)"
   ]
  }
 ],
 "metadata": {
  "kernelspec": {
   "display_name": "Python 3 (ipykernel)",
   "language": "python",
   "name": "python3"
  },
  "language_info": {
   "codemirror_mode": {
    "name": "ipython",
    "version": 3
   },
   "file_extension": ".py",
   "mimetype": "text/x-python",
   "name": "python",
   "nbconvert_exporter": "python",
   "pygments_lexer": "ipython3",
   "version": "3.9.7"
  }
 },
 "nbformat": 4,
 "nbformat_minor": 5
}
