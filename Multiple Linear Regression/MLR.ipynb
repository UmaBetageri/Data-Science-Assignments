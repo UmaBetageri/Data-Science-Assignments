{
 "cells": [
  {
   "cell_type": "markdown",
   "id": "0a327cf5",
   "metadata": {},
   "source": [
    "## MULTIPLE LINEAR REGRESSION"
   ]
  },
  {
   "cell_type": "markdown",
   "id": "a694d885",
   "metadata": {},
   "source": [
    "**Assignment Task:** <br>\n",
    "Task is to perform a multiple linear regression analysis to predict the price of Toyota corolla based on the given attributes.<br>\n",
    "\n",
    "**Dataset Description:** <br>\n",
    "The dataset consists of the following variables:<br>\n",
    "Age: Age in years <br>\n",
    "KM: Accumulated Kilometers on odometer <br>\n",
    "FuelType: Fuel Type (Petrol, Diesel, CNG) <br>\n",
    "HP: Horse Power <br>\n",
    "Automatic: Automatic ( (Yes=1, No=0)<br>\n",
    "CC: Cylinder Volume in cubic centimeters <br>\n",
    "Doors: Number of doors <br>\n",
    "Weight: Weight in Kilograms <br>\n",
    "Quarterly_Tax: <br>\n",
    "Price: Offer Price in EUROs <br>\n"
   ]
  },
  {
   "cell_type": "code",
   "execution_count": 293,
   "id": "d9baa749",
   "metadata": {},
   "outputs": [],
   "source": [
    "# Importing neccessary libraries\n",
    "import pandas as pd\n",
    "import numpy as np\n",
    "import matplotlib.pyplot as plt \n",
    "import seaborn as sns \n",
    "import warnings\n",
    "import matplotlib\n",
    "from scipy.stats import zscore\n",
    "from sklearn.model_selection import train_test_split\n",
    "from sklearn.linear_model import LinearRegression, Ridge, Lasso\n",
    "from sklearn.metrics import mean_squared_error, r2_score\n",
    "import statsmodels.formula.api as smf\n",
    "\n",
    "warnings.filterwarnings(\"ignore\")\n",
    "%matplotlib inline"
   ]
  },
  {
   "cell_type": "markdown",
   "id": "b9c86c99",
   "metadata": {},
   "source": [
    "### Data Cleaning and Preparation:"
   ]
  },
  {
   "cell_type": "code",
   "execution_count": 294,
   "id": "03d5e7c4",
   "metadata": {},
   "outputs": [
    {
     "data": {
      "text/html": [
       "<div>\n",
       "<style scoped>\n",
       "    .dataframe tbody tr th:only-of-type {\n",
       "        vertical-align: middle;\n",
       "    }\n",
       "\n",
       "    .dataframe tbody tr th {\n",
       "        vertical-align: top;\n",
       "    }\n",
       "\n",
       "    .dataframe thead th {\n",
       "        text-align: right;\n",
       "    }\n",
       "</style>\n",
       "<table border=\"1\" class=\"dataframe\">\n",
       "  <thead>\n",
       "    <tr style=\"text-align: right;\">\n",
       "      <th></th>\n",
       "      <th>Price</th>\n",
       "      <th>Age_08_04</th>\n",
       "      <th>KM</th>\n",
       "      <th>Fuel_Type</th>\n",
       "      <th>HP</th>\n",
       "      <th>Automatic</th>\n",
       "      <th>cc</th>\n",
       "      <th>Doors</th>\n",
       "      <th>Cylinders</th>\n",
       "      <th>Gears</th>\n",
       "      <th>Weight</th>\n",
       "    </tr>\n",
       "  </thead>\n",
       "  <tbody>\n",
       "    <tr>\n",
       "      <th>0</th>\n",
       "      <td>13500</td>\n",
       "      <td>23</td>\n",
       "      <td>46986</td>\n",
       "      <td>Diesel</td>\n",
       "      <td>90</td>\n",
       "      <td>0</td>\n",
       "      <td>2000</td>\n",
       "      <td>3</td>\n",
       "      <td>4</td>\n",
       "      <td>5</td>\n",
       "      <td>1165</td>\n",
       "    </tr>\n",
       "    <tr>\n",
       "      <th>1</th>\n",
       "      <td>13750</td>\n",
       "      <td>23</td>\n",
       "      <td>72937</td>\n",
       "      <td>Diesel</td>\n",
       "      <td>90</td>\n",
       "      <td>0</td>\n",
       "      <td>2000</td>\n",
       "      <td>3</td>\n",
       "      <td>4</td>\n",
       "      <td>5</td>\n",
       "      <td>1165</td>\n",
       "    </tr>\n",
       "    <tr>\n",
       "      <th>2</th>\n",
       "      <td>13950</td>\n",
       "      <td>24</td>\n",
       "      <td>41711</td>\n",
       "      <td>Diesel</td>\n",
       "      <td>90</td>\n",
       "      <td>0</td>\n",
       "      <td>2000</td>\n",
       "      <td>3</td>\n",
       "      <td>4</td>\n",
       "      <td>5</td>\n",
       "      <td>1165</td>\n",
       "    </tr>\n",
       "    <tr>\n",
       "      <th>3</th>\n",
       "      <td>14950</td>\n",
       "      <td>26</td>\n",
       "      <td>48000</td>\n",
       "      <td>Diesel</td>\n",
       "      <td>90</td>\n",
       "      <td>0</td>\n",
       "      <td>2000</td>\n",
       "      <td>3</td>\n",
       "      <td>4</td>\n",
       "      <td>5</td>\n",
       "      <td>1165</td>\n",
       "    </tr>\n",
       "    <tr>\n",
       "      <th>4</th>\n",
       "      <td>13750</td>\n",
       "      <td>30</td>\n",
       "      <td>38500</td>\n",
       "      <td>Diesel</td>\n",
       "      <td>90</td>\n",
       "      <td>0</td>\n",
       "      <td>2000</td>\n",
       "      <td>3</td>\n",
       "      <td>4</td>\n",
       "      <td>5</td>\n",
       "      <td>1170</td>\n",
       "    </tr>\n",
       "  </tbody>\n",
       "</table>\n",
       "</div>"
      ],
      "text/plain": [
       "   Price  Age_08_04     KM Fuel_Type  HP  Automatic    cc  Doors  Cylinders  \\\n",
       "0  13500         23  46986    Diesel  90          0  2000      3          4   \n",
       "1  13750         23  72937    Diesel  90          0  2000      3          4   \n",
       "2  13950         24  41711    Diesel  90          0  2000      3          4   \n",
       "3  14950         26  48000    Diesel  90          0  2000      3          4   \n",
       "4  13750         30  38500    Diesel  90          0  2000      3          4   \n",
       "\n",
       "   Gears  Weight  \n",
       "0      5    1165  \n",
       "1      5    1165  \n",
       "2      5    1165  \n",
       "3      5    1165  \n",
       "4      5    1170  "
      ]
     },
     "execution_count": 294,
     "metadata": {},
     "output_type": "execute_result"
    }
   ],
   "source": [
    "# Importing Dataset\n",
    "data = pd.read_csv(\"ToyotaCorolla - MLR.csv\")\n",
    "data.head()"
   ]
  },
  {
   "cell_type": "code",
   "execution_count": 295,
   "id": "04f9d49c",
   "metadata": {},
   "outputs": [
    {
     "data": {
      "text/plain": [
       "(1436, 11)"
      ]
     },
     "execution_count": 295,
     "metadata": {},
     "output_type": "execute_result"
    }
   ],
   "source": [
    "data.shape"
   ]
  },
  {
   "cell_type": "code",
   "execution_count": 296,
   "id": "74eb9527",
   "metadata": {},
   "outputs": [
    {
     "data": {
      "text/plain": [
       "Automatic\n",
       "0    1356\n",
       "1      80\n",
       "Name: count, dtype: int64"
      ]
     },
     "execution_count": 296,
     "metadata": {},
     "output_type": "execute_result"
    }
   ],
   "source": [
    "data.Automatic.value_counts()"
   ]
  },
  {
   "cell_type": "code",
   "execution_count": 297,
   "id": "76a15319",
   "metadata": {},
   "outputs": [
    {
     "data": {
      "text/plain": [
       "Cylinders\n",
       "4    1436\n",
       "Name: count, dtype: int64"
      ]
     },
     "execution_count": 297,
     "metadata": {},
     "output_type": "execute_result"
    }
   ],
   "source": [
    "data.Cylinders.value_counts()"
   ]
  },
  {
   "cell_type": "code",
   "execution_count": 298,
   "id": "68299f62",
   "metadata": {},
   "outputs": [
    {
     "name": "stdout",
     "output_type": "stream",
     "text": [
      "<class 'pandas.core.frame.DataFrame'>\n",
      "RangeIndex: 1436 entries, 0 to 1435\n",
      "Data columns (total 11 columns):\n",
      " #   Column     Non-Null Count  Dtype \n",
      "---  ------     --------------  ----- \n",
      " 0   Price      1436 non-null   int64 \n",
      " 1   Age_08_04  1436 non-null   int64 \n",
      " 2   KM         1436 non-null   int64 \n",
      " 3   Fuel_Type  1436 non-null   object\n",
      " 4   HP         1436 non-null   int64 \n",
      " 5   Automatic  1436 non-null   int64 \n",
      " 6   cc         1436 non-null   int64 \n",
      " 7   Doors      1436 non-null   int64 \n",
      " 8   Cylinders  1436 non-null   int64 \n",
      " 9   Gears      1436 non-null   int64 \n",
      " 10  Weight     1436 non-null   int64 \n",
      "dtypes: int64(10), object(1)\n",
      "memory usage: 123.5+ KB\n"
     ]
    }
   ],
   "source": [
    "data.info()"
   ]
  },
  {
   "cell_type": "code",
   "execution_count": 299,
   "id": "a32f3ec5",
   "metadata": {},
   "outputs": [
    {
     "data": {
      "text/plain": [
       "Price        0\n",
       "Age_08_04    0\n",
       "KM           0\n",
       "Fuel_Type    0\n",
       "HP           0\n",
       "Automatic    0\n",
       "cc           0\n",
       "Doors        0\n",
       "Cylinders    0\n",
       "Gears        0\n",
       "Weight       0\n",
       "dtype: int64"
      ]
     },
     "execution_count": 299,
     "metadata": {},
     "output_type": "execute_result"
    }
   ],
   "source": [
    "# Checking for Null Values\n",
    "data.isnull().sum()"
   ]
  },
  {
   "cell_type": "markdown",
   "id": "216a69f0",
   "metadata": {},
   "source": [
    "**There are no null values**"
   ]
  },
  {
   "cell_type": "code",
   "execution_count": 300,
   "id": "25ea0551",
   "metadata": {},
   "outputs": [
    {
     "data": {
      "text/plain": [
       "(1, 11)"
      ]
     },
     "execution_count": 300,
     "metadata": {},
     "output_type": "execute_result"
    }
   ],
   "source": [
    "# Checking for duplicate values\n",
    "data[data.duplicated()].shape"
   ]
  },
  {
   "cell_type": "code",
   "execution_count": 301,
   "id": "5bd0309e",
   "metadata": {},
   "outputs": [
    {
     "data": {
      "text/html": [
       "<div>\n",
       "<style scoped>\n",
       "    .dataframe tbody tr th:only-of-type {\n",
       "        vertical-align: middle;\n",
       "    }\n",
       "\n",
       "    .dataframe tbody tr th {\n",
       "        vertical-align: top;\n",
       "    }\n",
       "\n",
       "    .dataframe thead th {\n",
       "        text-align: right;\n",
       "    }\n",
       "</style>\n",
       "<table border=\"1\" class=\"dataframe\">\n",
       "  <thead>\n",
       "    <tr style=\"text-align: right;\">\n",
       "      <th></th>\n",
       "      <th>Price</th>\n",
       "      <th>Age_08_04</th>\n",
       "      <th>KM</th>\n",
       "      <th>Fuel_Type</th>\n",
       "      <th>HP</th>\n",
       "      <th>Automatic</th>\n",
       "      <th>cc</th>\n",
       "      <th>Doors</th>\n",
       "      <th>Cylinders</th>\n",
       "      <th>Gears</th>\n",
       "      <th>Weight</th>\n",
       "    </tr>\n",
       "  </thead>\n",
       "  <tbody>\n",
       "    <tr>\n",
       "      <th>113</th>\n",
       "      <td>24950</td>\n",
       "      <td>8</td>\n",
       "      <td>13253</td>\n",
       "      <td>Diesel</td>\n",
       "      <td>116</td>\n",
       "      <td>0</td>\n",
       "      <td>2000</td>\n",
       "      <td>5</td>\n",
       "      <td>4</td>\n",
       "      <td>5</td>\n",
       "      <td>1320</td>\n",
       "    </tr>\n",
       "  </tbody>\n",
       "</table>\n",
       "</div>"
      ],
      "text/plain": [
       "     Price  Age_08_04     KM Fuel_Type   HP  Automatic    cc  Doors  \\\n",
       "113  24950          8  13253    Diesel  116          0  2000      5   \n",
       "\n",
       "     Cylinders  Gears  Weight  \n",
       "113          4      5    1320  "
      ]
     },
     "execution_count": 301,
     "metadata": {},
     "output_type": "execute_result"
    }
   ],
   "source": [
    "# View of duplicate values\n",
    "data[data.duplicated()]"
   ]
  },
  {
   "cell_type": "markdown",
   "id": "fe54b3cb",
   "metadata": {},
   "source": [
    "**Since Door and Gears are different subjects we keep this column.**"
   ]
  },
  {
   "cell_type": "code",
   "execution_count": 302,
   "id": "d396a1d5",
   "metadata": {},
   "outputs": [
    {
     "data": {
      "text/html": [
       "<div>\n",
       "<style scoped>\n",
       "    .dataframe tbody tr th:only-of-type {\n",
       "        vertical-align: middle;\n",
       "    }\n",
       "\n",
       "    .dataframe tbody tr th {\n",
       "        vertical-align: top;\n",
       "    }\n",
       "\n",
       "    .dataframe thead th {\n",
       "        text-align: right;\n",
       "    }\n",
       "</style>\n",
       "<table border=\"1\" class=\"dataframe\">\n",
       "  <thead>\n",
       "    <tr style=\"text-align: right;\">\n",
       "      <th></th>\n",
       "      <th>Price</th>\n",
       "      <th>Age_08_04</th>\n",
       "      <th>KM</th>\n",
       "      <th>HP</th>\n",
       "      <th>cc</th>\n",
       "      <th>Doors</th>\n",
       "      <th>Gears</th>\n",
       "      <th>Weight</th>\n",
       "    </tr>\n",
       "  </thead>\n",
       "  <tbody>\n",
       "    <tr>\n",
       "      <th>0</th>\n",
       "      <td>13500</td>\n",
       "      <td>23</td>\n",
       "      <td>46986</td>\n",
       "      <td>90</td>\n",
       "      <td>2000</td>\n",
       "      <td>3</td>\n",
       "      <td>5</td>\n",
       "      <td>1165</td>\n",
       "    </tr>\n",
       "    <tr>\n",
       "      <th>1</th>\n",
       "      <td>13750</td>\n",
       "      <td>23</td>\n",
       "      <td>72937</td>\n",
       "      <td>90</td>\n",
       "      <td>2000</td>\n",
       "      <td>3</td>\n",
       "      <td>5</td>\n",
       "      <td>1165</td>\n",
       "    </tr>\n",
       "    <tr>\n",
       "      <th>2</th>\n",
       "      <td>13950</td>\n",
       "      <td>24</td>\n",
       "      <td>41711</td>\n",
       "      <td>90</td>\n",
       "      <td>2000</td>\n",
       "      <td>3</td>\n",
       "      <td>5</td>\n",
       "      <td>1165</td>\n",
       "    </tr>\n",
       "    <tr>\n",
       "      <th>3</th>\n",
       "      <td>14950</td>\n",
       "      <td>26</td>\n",
       "      <td>48000</td>\n",
       "      <td>90</td>\n",
       "      <td>2000</td>\n",
       "      <td>3</td>\n",
       "      <td>5</td>\n",
       "      <td>1165</td>\n",
       "    </tr>\n",
       "    <tr>\n",
       "      <th>4</th>\n",
       "      <td>13750</td>\n",
       "      <td>30</td>\n",
       "      <td>38500</td>\n",
       "      <td>90</td>\n",
       "      <td>2000</td>\n",
       "      <td>3</td>\n",
       "      <td>5</td>\n",
       "      <td>1170</td>\n",
       "    </tr>\n",
       "  </tbody>\n",
       "</table>\n",
       "</div>"
      ],
      "text/plain": [
       "   Price  Age_08_04     KM  HP    cc  Doors  Gears  Weight\n",
       "0  13500         23  46986  90  2000      3      5    1165\n",
       "1  13750         23  72937  90  2000      3      5    1165\n",
       "2  13950         24  41711  90  2000      3      5    1165\n",
       "3  14950         26  48000  90  2000      3      5    1165\n",
       "4  13750         30  38500  90  2000      3      5    1170"
      ]
     },
     "execution_count": 302,
     "metadata": {},
     "output_type": "execute_result"
    }
   ],
   "source": [
    "# Removing some qualitative data\n",
    "data_MLR = data[['Price','Age_08_04','KM','HP','cc','Doors','Gears','Weight']]\n",
    "data_MLR.head()"
   ]
  },
  {
   "cell_type": "code",
   "execution_count": 303,
   "id": "3321911e",
   "metadata": {},
   "outputs": [
    {
     "data": {
      "text/html": [
       "<div>\n",
       "<style scoped>\n",
       "    .dataframe tbody tr th:only-of-type {\n",
       "        vertical-align: middle;\n",
       "    }\n",
       "\n",
       "    .dataframe tbody tr th {\n",
       "        vertical-align: top;\n",
       "    }\n",
       "\n",
       "    .dataframe thead th {\n",
       "        text-align: right;\n",
       "    }\n",
       "</style>\n",
       "<table border=\"1\" class=\"dataframe\">\n",
       "  <thead>\n",
       "    <tr style=\"text-align: right;\">\n",
       "      <th></th>\n",
       "      <th>Price</th>\n",
       "      <th>Age</th>\n",
       "      <th>KM</th>\n",
       "      <th>HP</th>\n",
       "      <th>CC</th>\n",
       "      <th>Doors</th>\n",
       "      <th>Gears</th>\n",
       "      <th>Weight</th>\n",
       "    </tr>\n",
       "  </thead>\n",
       "  <tbody>\n",
       "    <tr>\n",
       "      <th>0</th>\n",
       "      <td>13500</td>\n",
       "      <td>23</td>\n",
       "      <td>46986</td>\n",
       "      <td>90</td>\n",
       "      <td>2000</td>\n",
       "      <td>3</td>\n",
       "      <td>5</td>\n",
       "      <td>1165</td>\n",
       "    </tr>\n",
       "    <tr>\n",
       "      <th>1</th>\n",
       "      <td>13750</td>\n",
       "      <td>23</td>\n",
       "      <td>72937</td>\n",
       "      <td>90</td>\n",
       "      <td>2000</td>\n",
       "      <td>3</td>\n",
       "      <td>5</td>\n",
       "      <td>1165</td>\n",
       "    </tr>\n",
       "    <tr>\n",
       "      <th>2</th>\n",
       "      <td>13950</td>\n",
       "      <td>24</td>\n",
       "      <td>41711</td>\n",
       "      <td>90</td>\n",
       "      <td>2000</td>\n",
       "      <td>3</td>\n",
       "      <td>5</td>\n",
       "      <td>1165</td>\n",
       "    </tr>\n",
       "    <tr>\n",
       "      <th>3</th>\n",
       "      <td>14950</td>\n",
       "      <td>26</td>\n",
       "      <td>48000</td>\n",
       "      <td>90</td>\n",
       "      <td>2000</td>\n",
       "      <td>3</td>\n",
       "      <td>5</td>\n",
       "      <td>1165</td>\n",
       "    </tr>\n",
       "    <tr>\n",
       "      <th>4</th>\n",
       "      <td>13750</td>\n",
       "      <td>30</td>\n",
       "      <td>38500</td>\n",
       "      <td>90</td>\n",
       "      <td>2000</td>\n",
       "      <td>3</td>\n",
       "      <td>5</td>\n",
       "      <td>1170</td>\n",
       "    </tr>\n",
       "  </tbody>\n",
       "</table>\n",
       "</div>"
      ],
      "text/plain": [
       "   Price  Age     KM  HP    CC  Doors  Gears  Weight\n",
       "0  13500   23  46986  90  2000      3      5    1165\n",
       "1  13750   23  72937  90  2000      3      5    1165\n",
       "2  13950   24  41711  90  2000      3      5    1165\n",
       "3  14950   26  48000  90  2000      3      5    1165\n",
       "4  13750   30  38500  90  2000      3      5    1170"
      ]
     },
     "execution_count": 303,
     "metadata": {},
     "output_type": "execute_result"
    }
   ],
   "source": [
    "# Rename of columns\n",
    "\n",
    "data_MLR = data_MLR.rename({'Age_08_04': 'Age', 'cc': 'CC'}, axis=1)\n",
    "data_MLR.head()"
   ]
  },
  {
   "cell_type": "code",
   "execution_count": 304,
   "id": "a27550ec",
   "metadata": {},
   "outputs": [
    {
     "data": {
      "text/plain": [
       "Price     int64\n",
       "Age       int64\n",
       "KM        int64\n",
       "HP        int64\n",
       "CC        int64\n",
       "Doors     int64\n",
       "Gears     int64\n",
       "Weight    int64\n",
       "dtype: object"
      ]
     },
     "execution_count": 304,
     "metadata": {},
     "output_type": "execute_result"
    }
   ],
   "source": [
    "# Ckecking for data types\n",
    "data_MLR.dtypes"
   ]
  },
  {
   "cell_type": "code",
   "execution_count": 305,
   "id": "45e73e7c",
   "metadata": {},
   "outputs": [
    {
     "data": {
      "image/png": "[encoded data removed]",
      "text/plain": [
       "<Figure size 1008x720 with 9 Axes>"
      ]
     },
     "metadata": {
      "needs_background": "light"
     },
     "output_type": "display_data"
    }
   ],
   "source": [
    "# Outlier detection\n",
    "data_MLR.hist(figsize=[14, 10]) \n",
    "plt.show() "
   ]
  },
  {
   "cell_type": "code",
   "execution_count": 306,
   "id": "608fbda5",
   "metadata": {},
   "outputs": [
    {
     "data": {
      "image/png": "[encoded data removed]",
      "text/plain": [
       "<Figure size 1152x720 with 1 Axes>"
      ]
     },
     "metadata": {
      "needs_background": "light"
     },
     "output_type": "display_data"
    }
   ],
   "source": [
    "data_MLR.boxplot(figsize=[16, 10])\n",
    "plt.show()"
   ]
  },
  {
   "cell_type": "markdown",
   "id": "dd6d322e",
   "metadata": {},
   "source": [
    "**Kilometers and Price have significant outliers.**"
   ]
  },
  {
   "cell_type": "code",
   "execution_count": 307,
   "id": "ed3a27ce",
   "metadata": {},
   "outputs": [
    {
     "data": {
      "text/html": [
       "<div>\n",
       "<style scoped>\n",
       "    .dataframe tbody tr th:only-of-type {\n",
       "        vertical-align: middle;\n",
       "    }\n",
       "\n",
       "    .dataframe tbody tr th {\n",
       "        vertical-align: top;\n",
       "    }\n",
       "\n",
       "    .dataframe thead th {\n",
       "        text-align: right;\n",
       "    }\n",
       "</style>\n",
       "<table border=\"1\" class=\"dataframe\">\n",
       "  <thead>\n",
       "    <tr style=\"text-align: right;\">\n",
       "      <th></th>\n",
       "      <th>Price</th>\n",
       "      <th>Age</th>\n",
       "      <th>KM</th>\n",
       "      <th>HP</th>\n",
       "      <th>CC</th>\n",
       "      <th>Doors</th>\n",
       "      <th>Gears</th>\n",
       "      <th>Weight</th>\n",
       "    </tr>\n",
       "  </thead>\n",
       "  <tbody>\n",
       "    <tr>\n",
       "      <th>count</th>\n",
       "      <td>1436.000000</td>\n",
       "      <td>1436.000000</td>\n",
       "      <td>1436.000000</td>\n",
       "      <td>1436.000000</td>\n",
       "      <td>1436.00000</td>\n",
       "      <td>1436.000000</td>\n",
       "      <td>1436.000000</td>\n",
       "      <td>1436.00000</td>\n",
       "    </tr>\n",
       "    <tr>\n",
       "      <th>mean</th>\n",
       "      <td>10730.824513</td>\n",
       "      <td>55.947075</td>\n",
       "      <td>68533.259749</td>\n",
       "      <td>101.502089</td>\n",
       "      <td>1576.85585</td>\n",
       "      <td>4.033426</td>\n",
       "      <td>5.026462</td>\n",
       "      <td>1072.45961</td>\n",
       "    </tr>\n",
       "    <tr>\n",
       "      <th>std</th>\n",
       "      <td>3626.964585</td>\n",
       "      <td>18.599988</td>\n",
       "      <td>37506.448872</td>\n",
       "      <td>14.981080</td>\n",
       "      <td>424.38677</td>\n",
       "      <td>0.952677</td>\n",
       "      <td>0.188510</td>\n",
       "      <td>52.64112</td>\n",
       "    </tr>\n",
       "    <tr>\n",
       "      <th>min</th>\n",
       "      <td>4350.000000</td>\n",
       "      <td>1.000000</td>\n",
       "      <td>1.000000</td>\n",
       "      <td>69.000000</td>\n",
       "      <td>1300.00000</td>\n",
       "      <td>2.000000</td>\n",
       "      <td>3.000000</td>\n",
       "      <td>1000.00000</td>\n",
       "    </tr>\n",
       "    <tr>\n",
       "      <th>25%</th>\n",
       "      <td>8450.000000</td>\n",
       "      <td>44.000000</td>\n",
       "      <td>43000.000000</td>\n",
       "      <td>90.000000</td>\n",
       "      <td>1400.00000</td>\n",
       "      <td>3.000000</td>\n",
       "      <td>5.000000</td>\n",
       "      <td>1040.00000</td>\n",
       "    </tr>\n",
       "    <tr>\n",
       "      <th>50%</th>\n",
       "      <td>9900.000000</td>\n",
       "      <td>61.000000</td>\n",
       "      <td>63389.500000</td>\n",
       "      <td>110.000000</td>\n",
       "      <td>1600.00000</td>\n",
       "      <td>4.000000</td>\n",
       "      <td>5.000000</td>\n",
       "      <td>1070.00000</td>\n",
       "    </tr>\n",
       "    <tr>\n",
       "      <th>75%</th>\n",
       "      <td>11950.000000</td>\n",
       "      <td>70.000000</td>\n",
       "      <td>87020.750000</td>\n",
       "      <td>110.000000</td>\n",
       "      <td>1600.00000</td>\n",
       "      <td>5.000000</td>\n",
       "      <td>5.000000</td>\n",
       "      <td>1085.00000</td>\n",
       "    </tr>\n",
       "    <tr>\n",
       "      <th>max</th>\n",
       "      <td>32500.000000</td>\n",
       "      <td>80.000000</td>\n",
       "      <td>243000.000000</td>\n",
       "      <td>192.000000</td>\n",
       "      <td>16000.00000</td>\n",
       "      <td>5.000000</td>\n",
       "      <td>6.000000</td>\n",
       "      <td>1615.00000</td>\n",
       "    </tr>\n",
       "  </tbody>\n",
       "</table>\n",
       "</div>"
      ],
      "text/plain": [
       "              Price          Age             KM           HP           CC  \\\n",
       "count   1436.000000  1436.000000    1436.000000  1436.000000   1436.00000   \n",
       "mean   10730.824513    55.947075   68533.259749   101.502089   1576.85585   \n",
       "std     3626.964585    18.599988   37506.448872    14.981080    424.38677   \n",
       "min     4350.000000     1.000000       1.000000    69.000000   1300.00000   \n",
       "25%     8450.000000    44.000000   43000.000000    90.000000   1400.00000   \n",
       "50%     9900.000000    61.000000   63389.500000   110.000000   1600.00000   \n",
       "75%    11950.000000    70.000000   87020.750000   110.000000   1600.00000   \n",
       "max    32500.000000    80.000000  243000.000000   192.000000  16000.00000   \n",
       "\n",
       "             Doors        Gears      Weight  \n",
       "count  1436.000000  1436.000000  1436.00000  \n",
       "mean      4.033426     5.026462  1072.45961  \n",
       "std       0.952677     0.188510    52.64112  \n",
       "min       2.000000     3.000000  1000.00000  \n",
       "25%       3.000000     5.000000  1040.00000  \n",
       "50%       4.000000     5.000000  1070.00000  \n",
       "75%       5.000000     5.000000  1085.00000  \n",
       "max       5.000000     6.000000  1615.00000  "
      ]
     },
     "execution_count": 307,
     "metadata": {},
     "output_type": "execute_result"
    }
   ],
   "source": [
    "data_MLR.describe()"
   ]
  },
  {
   "cell_type": "code",
   "execution_count": 308,
   "id": "c6f39ee4",
   "metadata": {},
   "outputs": [
    {
     "data": {
      "text/html": [
       "<div>\n",
       "<style scoped>\n",
       "    .dataframe tbody tr th:only-of-type {\n",
       "        vertical-align: middle;\n",
       "    }\n",
       "\n",
       "    .dataframe tbody tr th {\n",
       "        vertical-align: top;\n",
       "    }\n",
       "\n",
       "    .dataframe thead th {\n",
       "        text-align: right;\n",
       "    }\n",
       "</style>\n",
       "<table border=\"1\" class=\"dataframe\">\n",
       "  <thead>\n",
       "    <tr style=\"text-align: right;\">\n",
       "      <th></th>\n",
       "      <th>Price</th>\n",
       "      <th>Age</th>\n",
       "      <th>KM</th>\n",
       "      <th>HP</th>\n",
       "      <th>CC</th>\n",
       "      <th>Doors</th>\n",
       "      <th>Gears</th>\n",
       "      <th>Weight</th>\n",
       "    </tr>\n",
       "  </thead>\n",
       "  <tbody>\n",
       "    <tr>\n",
       "      <th>Price</th>\n",
       "      <td>1.000000</td>\n",
       "      <td>-0.876590</td>\n",
       "      <td>-0.569960</td>\n",
       "      <td>0.314990</td>\n",
       "      <td>0.126389</td>\n",
       "      <td>0.185326</td>\n",
       "      <td>0.063104</td>\n",
       "      <td>0.581198</td>\n",
       "    </tr>\n",
       "    <tr>\n",
       "      <th>Age</th>\n",
       "      <td>-0.876590</td>\n",
       "      <td>1.000000</td>\n",
       "      <td>0.505672</td>\n",
       "      <td>-0.156622</td>\n",
       "      <td>-0.098084</td>\n",
       "      <td>-0.148359</td>\n",
       "      <td>-0.005364</td>\n",
       "      <td>-0.470253</td>\n",
       "    </tr>\n",
       "    <tr>\n",
       "      <th>KM</th>\n",
       "      <td>-0.569960</td>\n",
       "      <td>0.505672</td>\n",
       "      <td>1.000000</td>\n",
       "      <td>-0.333538</td>\n",
       "      <td>0.102683</td>\n",
       "      <td>-0.036197</td>\n",
       "      <td>0.015023</td>\n",
       "      <td>-0.028598</td>\n",
       "    </tr>\n",
       "    <tr>\n",
       "      <th>HP</th>\n",
       "      <td>0.314990</td>\n",
       "      <td>-0.156622</td>\n",
       "      <td>-0.333538</td>\n",
       "      <td>1.000000</td>\n",
       "      <td>0.035856</td>\n",
       "      <td>0.092424</td>\n",
       "      <td>0.209477</td>\n",
       "      <td>0.089614</td>\n",
       "    </tr>\n",
       "    <tr>\n",
       "      <th>CC</th>\n",
       "      <td>0.126389</td>\n",
       "      <td>-0.098084</td>\n",
       "      <td>0.102683</td>\n",
       "      <td>0.035856</td>\n",
       "      <td>1.000000</td>\n",
       "      <td>0.079903</td>\n",
       "      <td>0.014629</td>\n",
       "      <td>0.335637</td>\n",
       "    </tr>\n",
       "    <tr>\n",
       "      <th>Doors</th>\n",
       "      <td>0.185326</td>\n",
       "      <td>-0.148359</td>\n",
       "      <td>-0.036197</td>\n",
       "      <td>0.092424</td>\n",
       "      <td>0.079903</td>\n",
       "      <td>1.000000</td>\n",
       "      <td>-0.160141</td>\n",
       "      <td>0.302618</td>\n",
       "    </tr>\n",
       "    <tr>\n",
       "      <th>Gears</th>\n",
       "      <td>0.063104</td>\n",
       "      <td>-0.005364</td>\n",
       "      <td>0.015023</td>\n",
       "      <td>0.209477</td>\n",
       "      <td>0.014629</td>\n",
       "      <td>-0.160141</td>\n",
       "      <td>1.000000</td>\n",
       "      <td>0.020613</td>\n",
       "    </tr>\n",
       "    <tr>\n",
       "      <th>Weight</th>\n",
       "      <td>0.581198</td>\n",
       "      <td>-0.470253</td>\n",
       "      <td>-0.028598</td>\n",
       "      <td>0.089614</td>\n",
       "      <td>0.335637</td>\n",
       "      <td>0.302618</td>\n",
       "      <td>0.020613</td>\n",
       "      <td>1.000000</td>\n",
       "    </tr>\n",
       "  </tbody>\n",
       "</table>\n",
       "</div>"
      ],
      "text/plain": [
       "           Price       Age        KM        HP        CC     Doors     Gears  \\\n",
       "Price   1.000000 -0.876590 -0.569960  0.314990  0.126389  0.185326  0.063104   \n",
       "Age    -0.876590  1.000000  0.505672 -0.156622 -0.098084 -0.148359 -0.005364   \n",
       "KM     -0.569960  0.505672  1.000000 -0.333538  0.102683 -0.036197  0.015023   \n",
       "HP      0.314990 -0.156622 -0.333538  1.000000  0.035856  0.092424  0.209477   \n",
       "CC      0.126389 -0.098084  0.102683  0.035856  1.000000  0.079903  0.014629   \n",
       "Doors   0.185326 -0.148359 -0.036197  0.092424  0.079903  1.000000 -0.160141   \n",
       "Gears   0.063104 -0.005364  0.015023  0.209477  0.014629 -0.160141  1.000000   \n",
       "Weight  0.581198 -0.470253 -0.028598  0.089614  0.335637  0.302618  0.020613   \n",
       "\n",
       "          Weight  \n",
       "Price   0.581198  \n",
       "Age    -0.470253  \n",
       "KM     -0.028598  \n",
       "HP      0.089614  \n",
       "CC      0.335637  \n",
       "Doors   0.302618  \n",
       "Gears   0.020613  \n",
       "Weight  1.000000  "
      ]
     },
     "execution_count": 308,
     "metadata": {},
     "output_type": "execute_result"
    }
   ],
   "source": [
    "data_MLR.corr()"
   ]
  },
  {
   "cell_type": "code",
   "execution_count": 309,
   "id": "47c576bf",
   "metadata": {
    "scrolled": true
   },
   "outputs": [
    {
     "data": {
      "image/png": "[encoded data removed]",
      "text/plain": [
       "<Figure size 864x720 with 2 Axes>"
      ]
     },
     "metadata": {
      "needs_background": "light"
     },
     "output_type": "display_data"
    }
   ],
   "source": [
    "# Correlation heat map\n",
    "\n",
    "corr = data_MLR.corr()\n",
    "plt.figure(figsize=(12, 10))\n",
    "sns.heatmap(corr, annot=True, fmt=\".2f\", cmap='coolwarm')\n",
    "plt.title('Correlation Heatmap')\n",
    "plt.show()"
   ]
  },
  {
   "cell_type": "markdown",
   "id": "a879d4fa",
   "metadata": {},
   "source": [
    "### Graphs"
   ]
  },
  {
   "cell_type": "code",
   "execution_count": 310,
   "id": "55d275be",
   "metadata": {},
   "outputs": [
    {
     "data": {
      "image/png": "[encoded data removed]",
      "text/plain": [
       "<Figure size 1080x1080 with 8 Axes>"
      ]
     },
     "metadata": {
      "needs_background": "light"
     },
     "output_type": "display_data"
    }
   ],
   "source": [
    "f, axes = plt.subplots(4, 2, figsize=(15,15))\n",
    "\n",
    "sns.regplot(x = 'Price', y = 'Age', data = data_MLR, scatter_kws={'alpha':0.6}, ax = axes[0,0])\n",
    "sns.regplot(x = 'Price', y = 'KM', data = data_MLR, scatter_kws={'alpha':0.6}, ax = axes[0,1])\n",
    "sns.regplot(x = 'Price', y = 'Weight', data = data_MLR, scatter_kws={'alpha':0.6}, ax = axes[1,0])\n",
    "sns.regplot(x = 'Price', y = 'HP', data = data_MLR, scatter_kws={'alpha':0.6}, ax = axes[1,1])\n",
    "sns.regplot(x = 'Price', y = 'CC', data = data_MLR, scatter_kws={'alpha':0.6}, ax = axes[2,0])\n",
    "sns.regplot(x = 'Price', y = 'Gears', data = data_MLR, scatter_kws={'alpha':0.6}, ax = axes[2,1])\n",
    "sns.regplot(x = 'Price', y = 'Doors', data = data_MLR, scatter_kws={'alpha':0.6}, ax = axes[3,0])\n",
    "\n",
    "plt.show()"
   ]
  },
  {
   "cell_type": "markdown",
   "id": "7f15ba2d",
   "metadata": {},
   "source": [
    "### Train-Test Spliting"
   ]
  },
  {
   "cell_type": "code",
   "execution_count": 311,
   "id": "3606fe95",
   "metadata": {},
   "outputs": [],
   "source": [
    "# Split the data into features and target variable\n",
    "X = data_MLR.drop('Price', axis=1)\n",
    "y = data_MLR['Price']\n",
    "\n",
    "# Split the dataset into training and testing sets (80% training, 20% testing)\n",
    "X_train, X_test, y_train, y_test = train_test_split(X, y, test_size=0.2, random_state=42)"
   ]
  },
  {
   "cell_type": "markdown",
   "id": "ebf46888",
   "metadata": {},
   "source": [
    "### Model Training"
   ]
  },
  {
   "cell_type": "markdown",
   "id": "b1918a7f",
   "metadata": {},
   "source": [
    "#### Model 1"
   ]
  },
  {
   "cell_type": "code",
   "execution_count": 312,
   "id": "6c5bda85",
   "metadata": {},
   "outputs": [
    {
     "name": "stdout",
     "output_type": "stream",
     "text": [
      "Model 1 - MSE: 1978740.4736284816, RMSE: 1406.6771035417053, R2: 0.8516996336517376\n"
     ]
    }
   ],
   "source": [
    "# Model 1: All numerical features\n",
    "model1 = LinearRegression()\n",
    "model1.fit(X_train, y_train)\n",
    "y_pred1 = model1.predict(X_test)\n",
    "\n",
    "# Evaluate Model 1\n",
    "mse1 = mean_squared_error(y_test, y_pred1)\n",
    "rmse1 = mean_squared_error(y_test, y_pred1, squared=False)\n",
    "r2_1 = r2_score(y_test, y_pred1)\n",
    "print(f\"Model 1 - MSE: {mse1}, RMSE: {rmse1}, R2: {r2_1}\")"
   ]
  },
  {
   "cell_type": "markdown",
   "id": "b1dfcf13",
   "metadata": {},
   "source": [
    "#### Model 2"
   ]
  },
  {
   "cell_type": "code",
   "execution_count": 313,
   "id": "bc29a5b0",
   "metadata": {},
   "outputs": [
    {
     "name": "stdout",
     "output_type": "stream",
     "text": [
      "Model 2 - MSE: 1993321.012973071, RMSE: 1411.85020911323, R2: 0.8506068681500583\n"
     ]
    }
   ],
   "source": [
    "# Model 2: Subset of numerical features\n",
    "features2 = ['Age', 'KM', 'HP', 'Weight']\n",
    "X_train2 = X_train[features2]\n",
    "X_test2 = X_test[features2]\n",
    "\n",
    "model2 = LinearRegression()\n",
    "model2.fit(X_train2, y_train)\n",
    "y_pred2 = model2.predict(X_test2)\n",
    "\n",
    "# Evaluate Model 2\n",
    "mse2 = mean_squared_error(y_test, y_pred2)\n",
    "rmse2 = mean_squared_error(y_test, y_pred2, squared=False)\n",
    "r2_2 = r2_score(y_test, y_pred2)\n",
    "print(f\"Model 2 - MSE: {mse2}, RMSE: {rmse2}, R2: {r2_2}\")"
   ]
  },
  {
   "cell_type": "markdown",
   "id": "1ea3f94f",
   "metadata": {},
   "source": [
    "#### Model 3"
   ]
  },
  {
   "cell_type": "code",
   "execution_count": 314,
   "id": "f44b9842",
   "metadata": {},
   "outputs": [
    {
     "name": "stdout",
     "output_type": "stream",
     "text": [
      "Model 2 - MSE: 1697558.8932015013, RMSE: 1302.9040230199234, R2: 0.8727733075081373\n"
     ]
    }
   ],
   "source": [
    "# Model 3: Linear Regression with interaction terms\n",
    "X_train_interaction = X_train.copy()\n",
    "X_test_interaction = X_test.copy()\n",
    "X_train_interaction['Age_KM'] = X_train['Age'] * X_train['KM']\n",
    "X_test_interaction['Age_KM'] = X_test['Age'] * X_test['KM']\n",
    "\n",
    "model3 = LinearRegression()\n",
    "model3.fit(X_train_interaction, y_train)\n",
    "y_pred3 = model3.predict(X_test_interaction)\n",
    "\n",
    "# Evaluate Model 3\n",
    "mse3 = mean_squared_error(y_test, y_pred3)\n",
    "rmse3 = mean_squared_error(y_test, y_pred3, squared=False)\n",
    "r2_3 = r2_score(y_test, y_pred3)\n",
    "print(f\"Model 2 - MSE: {mse3}, RMSE: {rmse3}, R2: {r2_3}\")"
   ]
  },
  {
   "cell_type": "markdown",
   "id": "ed057079",
   "metadata": {},
   "source": [
    "#### Accuracy Graph of all three models"
   ]
  },
  {
   "cell_type": "code",
   "execution_count": 315,
   "id": "edac3333",
   "metadata": {},
   "outputs": [
    {
     "data": {
      "image/png": "[encoded data removed]",
      "text/plain": [
       "<Figure size 432x288 with 1 Axes>"
      ]
     },
     "metadata": {
      "needs_background": "light"
     },
     "output_type": "display_data"
    }
   ],
   "source": [
    "# Creating bar plot of accuracies. \n",
    "r2 = [r2_1, r2_2, r2_3]\n",
    "models = [\"Model 1\", \"Model 2\", \"Model 3\"]\n",
    "\n",
    "# creating the bar plot\n",
    "plt.plot(models, r2, color ='green')\n",
    " \n",
    "plt.xlabel(\"Models\")\n",
    "plt.ylabel(\"Accuracy\")\n",
    "plt.title(\"Comparision of accuracy\")\n",
    "plt.show()"
   ]
  },
  {
   "cell_type": "markdown",
   "id": "b2b9760b",
   "metadata": {},
   "source": [
    "### Lasso and Ridge Methods"
   ]
  },
  {
   "cell_type": "markdown",
   "id": "678a75d6",
   "metadata": {},
   "source": [
    "#### Lasso Model"
   ]
  },
  {
   "cell_type": "code",
   "execution_count": 316,
   "id": "badb9c98",
   "metadata": {},
   "outputs": [],
   "source": [
    "# Function for Model Evaluation\n",
    "\n",
    "def evaluate_model(y_true, y_pred):\n",
    "    mse = mean_squared_error(y_true, y_pred)\n",
    "    rmse = mean_squared_error(y_true, y_pred, squared=False)\n",
    "    r2 = r2_score(y_true, y_pred)\n",
    "    return mse, rmse, r2"
   ]
  },
  {
   "cell_type": "code",
   "execution_count": 317,
   "id": "cc3be16e",
   "metadata": {},
   "outputs": [
    {
     "name": "stdout",
     "output_type": "stream",
     "text": [
      "Lasso - MSE: 1978771.8999715063, RMSE: 1406.688273915549, R2: 0.8516972783463068\n"
     ]
    }
   ],
   "source": [
    "# Train the Lasso model on model 1\n",
    "lasso_1 = Lasso(alpha=0.1)\n",
    "lasso_1.fit(X_train, y_train)\n",
    "y_pred_lasso_1 = lasso_1.predict(X_test)\n",
    "\n",
    "mse_lasso_1, rmse_lasso_1, r2_lasso_1 = evaluate_model(y_test, y_pred_lasso_1)\n",
    "print(f\"Lasso - MSE: {mse_lasso_1}, RMSE: {rmse_lasso_1}, R2: {r2_lasso_1}\")"
   ]
  },
  {
   "cell_type": "code",
   "execution_count": 318,
   "id": "379fb7f1",
   "metadata": {},
   "outputs": [
    {
     "name": "stdout",
     "output_type": "stream",
     "text": [
      "Lasso - MSE: 1697634.588179047, RMSE: 1302.9330712584767, R2: 0.8727676344079758\n"
     ]
    }
   ],
   "source": [
    "# Train the Lasso model on model 3\n",
    "\n",
    "lasso_3 = Lasso(alpha=0.1)\n",
    "lasso_3.fit(X_train_interaction, y_train)\n",
    "y_pred_lasso_3 = lasso_3.predict(X_test_interaction)\n",
    "\n",
    "# Evaluate the model\n",
    "mse_lasso_3, rmse_lasso_3, r2_lasso_3 = evaluate_model(y_test, y_pred_lasso_3)\n",
    "print(f\"Lasso - MSE: {mse_lasso_3}, RMSE: {rmse_lasso_3}, R2: {r2_lasso_3}\")"
   ]
  },
  {
   "cell_type": "markdown",
   "id": "8e0a7a49",
   "metadata": {},
   "source": [
    "#### Variable Importance"
   ]
  },
  {
   "cell_type": "code",
   "execution_count": 319,
   "id": "8364f474",
   "metadata": {},
   "outputs": [
    {
     "data": {
      "text/html": [
       "<div>\n",
       "<style scoped>\n",
       "    .dataframe tbody tr th:only-of-type {\n",
       "        vertical-align: middle;\n",
       "    }\n",
       "\n",
       "    .dataframe tbody tr th {\n",
       "        vertical-align: top;\n",
       "    }\n",
       "\n",
       "    .dataframe thead th {\n",
       "        text-align: right;\n",
       "    }\n",
       "</style>\n",
       "<table border=\"1\" class=\"dataframe\">\n",
       "  <thead>\n",
       "    <tr style=\"text-align: right;\">\n",
       "      <th></th>\n",
       "      <th>Feature</th>\n",
       "      <th>VIF</th>\n",
       "    </tr>\n",
       "  </thead>\n",
       "  <tbody>\n",
       "    <tr>\n",
       "      <th>0</th>\n",
       "      <td>Age</td>\n",
       "      <td>1.874559</td>\n",
       "    </tr>\n",
       "    <tr>\n",
       "      <th>1</th>\n",
       "      <td>KM</td>\n",
       "      <td>1.645618</td>\n",
       "    </tr>\n",
       "    <tr>\n",
       "      <th>2</th>\n",
       "      <td>HP</td>\n",
       "      <td>1.218056</td>\n",
       "    </tr>\n",
       "    <tr>\n",
       "      <th>3</th>\n",
       "      <td>CC</td>\n",
       "      <td>1.146729</td>\n",
       "    </tr>\n",
       "    <tr>\n",
       "      <th>4</th>\n",
       "      <td>Doors</td>\n",
       "      <td>1.150044</td>\n",
       "    </tr>\n",
       "    <tr>\n",
       "      <th>5</th>\n",
       "      <td>Gears</td>\n",
       "      <td>1.096603</td>\n",
       "    </tr>\n",
       "    <tr>\n",
       "      <th>6</th>\n",
       "      <td>Weight</td>\n",
       "      <td>1.643962</td>\n",
       "    </tr>\n",
       "  </tbody>\n",
       "</table>\n",
       "</div>"
      ],
      "text/plain": [
       "  Feature       VIF\n",
       "0     Age  1.874559\n",
       "1      KM  1.645618\n",
       "2      HP  1.218056\n",
       "3      CC  1.146729\n",
       "4   Doors  1.150044\n",
       "5   Gears  1.096603\n",
       "6  Weight  1.643962"
      ]
     },
     "execution_count": 319,
     "metadata": {},
     "output_type": "execute_result"
    }
   ],
   "source": [
    "# Plot variable importance for Lasso for model 1\n",
    "\n",
    "rsq_Age = smf.ols('Age~KM+HP+CC+Doors+Gears+Weight',data=data_MLR).fit().rsquared  \n",
    "vif_Age= 1/(1-rsq_Age)\n",
    "\n",
    "rsq_KM = smf.ols('KM~Age+HP+CC+Doors+Gears+Weight',data=data_MLR).fit().rsquared  \n",
    "vif_KM = 1/(1-rsq_KM)\n",
    "\n",
    "rsq_HP = smf.ols('HP~Age+KM+CC+Doors+Gears+Weight',data=data_MLR).fit().rsquared  \n",
    "vif_HP = 1/(1-rsq_HP)\n",
    "\n",
    "rsq_cc = smf.ols('CC~Age+HP+KM+Doors+Gears+Weight',data=data_MLR).fit().rsquared  \n",
    "vif_cc = 1/(1-rsq_cc)\n",
    "\n",
    "rsq_Doors = smf.ols('Doors~Age+HP+KM+CC+Gears+Weight',data=data_MLR).fit().rsquared  \n",
    "vif_Doors = 1/(1-rsq_Doors)\n",
    "\n",
    "rsq_Gears = smf.ols('Gears~Age+HP+KM+Doors+CC+Weight',data=data_MLR).fit().rsquared  \n",
    "vif_Gears = 1/(1-rsq_Gears)\n",
    "\n",
    "rsq_Weight = smf.ols('Weight~Age+HP+KM+Doors+Gears+CC',data=data_MLR).fit().rsquared  \n",
    "vif_Weight = 1/(1-rsq_Weight)\n",
    "\n",
    "\n",
    "# Storing vif values in a data frame\n",
    "df = {'Feature':['Age','KM','HP','CC','Doors','Gears','Weight'],'VIF':[vif_Age,vif_KM,vif_HP,vif_cc,vif_Doors,vif_Gears,vif_Weight]}\n",
    "Vif_df = pd.DataFrame(df)  \n",
    "Vif_df\n",
    "\n"
   ]
  },
  {
   "cell_type": "code",
   "execution_count": 321,
   "id": "7732c502",
   "metadata": {},
   "outputs": [
    {
     "data": {
      "image/png": "[encoded data removed]",
      "text/plain": [
       "<Figure size 720x432 with 1 Axes>"
      ]
     },
     "metadata": {
      "needs_background": "light"
     },
     "output_type": "display_data"
    }
   ],
   "source": [
    "# VIF Plot\n",
    "\n",
    "plt.figure(figsize=(10, 6))\n",
    "plt.barh(Vif_df['Feature'], Vif_df['VIF'])\n",
    "plt.xlabel('Coefficient Value')\n",
    "plt.title('Lasso Regression Feature Importance')\n",
    "plt.gca().invert_yaxis()\n",
    "plt.show()"
   ]
  },
  {
   "cell_type": "markdown",
   "id": "0528d7c5",
   "metadata": {},
   "source": [
    "#### Ridge Model"
   ]
  },
  {
   "cell_type": "code",
   "execution_count": 322,
   "id": "b3f7edfb",
   "metadata": {},
   "outputs": [
    {
     "name": "stdout",
     "output_type": "stream",
     "text": [
      "Best Ridge Model - Alpha: 0.1, Solver: svd, R2: 0.8516980633466482\n",
      "Ridge - MSE: 1978761.42587771, RMSE: 1406.6845509486873, R2: 0.8516980633466482\n"
     ]
    }
   ],
   "source": [
    "# Try different solvers and alpha values for Ridge Regression\n",
    "best_r2 = -np.inf\n",
    "best_alpha = None\n",
    "best_solver = None\n",
    "\n",
    "solvers = ['svd', 'lsqr', 'sparse_cg', 'sag', 'saga']\n",
    "\n",
    "for solver in solvers:\n",
    "    for alpha in alphas:\n",
    "        ridge = Ridge(alpha=alpha, solver=solver)\n",
    "        ridge.fit(X_train, y_train)\n",
    "        y_pred_ridge = ridge.predict(X_test)\n",
    "\n",
    "        r2 = r2_score(y_test, y_pred_ridge)\n",
    "        \n",
    "        if r2 > best_r2:\n",
    "            best_r2 = r2\n",
    "            best_alpha = alpha\n",
    "            best_solver = solver\n",
    "\n",
    "print(f\"Best Ridge Model - Alpha: {best_alpha}, Solver: {best_solver}, R2: {best_r2}\")\n",
    "\n",
    "# Fit the best model model 1\n",
    "ridge_1 = Ridge(alpha=best_alpha, solver=best_solver)\n",
    "ridge_1.fit(X_train, y_train)\n",
    "y_pred_ridge_1 = ridge_1.predict(X_test)\n",
    "\n",
    "# Evaluate the model\n",
    "mse_ridge_1, rmse_ridge_1, r2_ridge_1 = evaluate_model(y_test, y_pred_ridge_1)\n",
    "print(f\"Ridge - MSE: {mse_ridge_1}, RMSE: {rmse_ridge_1}, R2: {r2_ridge_1}\")"
   ]
  },
  {
   "cell_type": "code",
   "execution_count": 323,
   "id": "1d1820dd",
   "metadata": {},
   "outputs": [
    {
     "name": "stdout",
     "output_type": "stream",
     "text": [
      "Ridge - MSE: 1697594.9163401872, RMSE: 1302.9178471186076, R2: 0.8727706076873496\n"
     ]
    }
   ],
   "source": [
    "# Fit the best ridge model for model 3 data\n",
    "ridge_3 = Ridge(alpha=best_alpha, solver=best_solver)\n",
    "ridge_3.fit(X_train_interaction, y_train)\n",
    "y_pred_ridge_3 = ridge_3.predict(X_test_interaction)\n",
    "\n",
    "# Evaluate the model \n",
    "mse_ridge_3, rmse_ridge_3, r2_ridge_3 = evaluate_model(y_test, y_pred_ridge_3)\n",
    "print(f\"Ridge - MSE: {mse_ridge_3}, RMSE: {rmse_ridge_3}, R2: {r2_ridge_3}\")"
   ]
  },
  {
   "cell_type": "markdown",
   "id": "b08ef01b",
   "metadata": {},
   "source": [
    "### Results and Conclusions"
   ]
  },
  {
   "cell_type": "markdown",
   "id": "828dc794",
   "metadata": {},
   "source": [
    "#### Correlation Matrix Insights\n",
    "**Age:** Highly negatively correlated with Price (-0.8766). As the age of the car increases, the price significantly decreases. <br>\n",
    "**KM:** Moderately negatively correlated with Price (-0.5700). Higher accumulated kilometers tend to reduce the car price.<br>\n",
    "**Weight:** Positively correlated with Price (0.5812). Heavier cars seem to be priced higher.<br>\n",
    "**HP:** Positively correlated with Price (0.3150). Higher horsepower tends to increase the car price. <br>\n",
    "Conclusion <br>\n",
    "\n",
    "**Best Model:** Model 3 achieved the best performance with the lowest MSE (1,697,558.89), lowest RMSE (1,302.90), and highest R² (0.8728). <br>\n",
    "\n",
    "**Regularization Techniques:** Both Lasso and Ridge regressions performed similarly to the base models, slightly improving performance in some cases, particularly for Model 3 data.\n",
    "\n",
    "**Key Predictors:** Age, KM, and Weight are the most significant predictors of the price of Toyota Corolla cars, with Age being the most influential factor.\n",
    "\n",
    "#### Recommendations\n",
    "**Focus on Reducing Age Impact:** Since Age has the highest negative correlation with Price, strategies such as warranty extensions or showcasing maintenance history could help mitigate its impact on car valuation. <br>\n",
    "**Highlight Horsepower and Weight:** Marketing the benefits of higher horsepower and heavier build quality could justify higher pricing for customers.<br>\n",
    "**Data Collection Enhancement:** Consider collecting additional features that could affect car prices, such as previous ownership details, service history, and condition scores, to further improve model accuracy.\n",
    "Model Fine-Tuning: Experiment with other advanced regression techniques and ensemble methods to potentially achieve better performance."
   ]
  }
 ],
 "metadata": {
  "kernelspec": {
   "display_name": "Python 3 (ipykernel)",
   "language": "python",
   "name": "python3"
  },
  "language_info": {
   "codemirror_mode": {
    "name": "ipython",
    "version": 3
   },
   "file_extension": ".py",
   "mimetype": "text/x-python",
   "name": "python",
   "nbconvert_exporter": "python",
   "pygments_lexer": "ipython3",
   "version": "3.9.19"
  }
 },
 "nbformat": 4,
 "nbformat_minor": 5
}
